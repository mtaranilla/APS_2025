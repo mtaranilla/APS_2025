{
 "cells": [
  {
   "cell_type": "markdown",
   "id": "915232bd-93dc-42b7-9291-8c747e18c6a8",
   "metadata": {},
   "source": [
    "### Análisis y Procesamiento de Señales - 2do Cuatrimestre 2025\n",
    "# **Tarea Semanal 6**: *Respuesta en frecuencia de Filtros Pasivos RLC*\n",
    "#### Mora Taranilla y Victoria Jazmín Salgado"
   ]
  },
  {
   "cell_type": "markdown",
   "id": "83667446-db8d-473b-b57a-8f0debd1f5c1",
   "metadata": {},
   "source": [
    "## **Resumen**: \n",
    "El objetivo de esta tarea semanal fue comenzar a trabajar con los conceptos de filtros analógicos. En el presente trabajo se analizan e implementan secciones bicuadráticas a partir de funciones de transferencia de segundo orden. Se determinan los parámetros característicos de cada red y se representan los correspondientes diagramas de polos y ceros, junto con las respuestas en frecuencia de módulo y fase. \n",
    "\n",
    "## **Introducción**\n",
    "\n",
    "#### Secciones bicuadráticas: Second Order Sections (SOS)\n",
    "$$\n",
    "T(s) = k \\cdot \\frac{s^2 + s \\frac{\\omega_{0z}}{Q_z} + \\omega_{0z}^2}{s^2 + s \\frac{\\omega_{0p}}{Q_p} + \\omega_{0p}^2}\n",
    "$$"
   ]
  },
  {
   "cell_type": "markdown",
   "id": "5b0e0bbc-45f8-4e10-81a7-771d6b13c3e4",
   "metadata": {},
   "source": [
    "## **Desarrollo del trabajo**\n",
    "Se comienza por el desarrollo de la función de transferencia $T(s) = \\frac{V_2(s)}{V_1(s)}$ del siguiente arreglo circuital."
   ]
  },
  {
   "cell_type": "code",
   "execution_count": 3,
   "id": "f4a31a58-3cad-4ebc-8d32-5ae3cbaa2ec5",
   "metadata": {},
   "outputs": [
    {
     "data": {
      "text/html": [
       "<div style='text-align: center;'><img src='circuito_TS6.jpg' width='400'></div>"
      ],
      "text/plain": [
       "<IPython.core.display.HTML object>"
      ]
     },
     "metadata": {},
     "output_type": "display_data"
    }
   ],
   "source": [
    "from IPython.display import HTML, display\n",
    "\n",
    "display(HTML(\"<div style='text-align: center;'><img src='circuito_TS6.jpg' width='400'></div>\"))"
   ]
  },
  {
   "cell_type": "markdown",
   "id": "594c21f5-25f5-4528-92ed-ac627bce1198",
   "metadata": {},
   "source": [
    "Al tener los componentes en paralelo, se calculó la función transferencia en función de las admitancias, ya que las mismas se suman en este caso. Las admitancias se calculan de la siguiente forma:\n",
    "\n",
    "- $Y_R (s) = \\frac{1}{R}$\n",
    "- $Y_L (s) = \\frac{1}{sL}$\n",
    "- $Y_C (s) = sC$\n",
    "\n",
    "De esta forma se calcularon las admitancias esquivalentes:\n",
    "\n",
    "- $Y_1 (s) = \\frac{d}{R} + \\frac{b}{sL} + sCa$\n",
    "- $Y_2 (s) = \\frac{1-d}{R} + \\frac{1-b}{sL} + sC(1-a)$\n",
    "\n",
    "La función transferencia se calculó utilizando un divisior de tensión con admitancias, es decir: $T(s) = \\frac{Y_1}{Y_1+Y_2}$. \n",
    "\n",
    "$$\n",
    "Y_1 + Y_2 = \\frac{d+1-d}{R} + \\frac{b+1-b}{sL} + sC(a+1-a) = \\frac{1}{R} + \\frac{1}{sL} + sC\n",
    "$$\n",
    "\n",
    "$$\n",
    "T(s) = \\frac{\\frac{d}{R} + \\frac{b}{sL} + sCa}{\\frac{1}{R} + \\frac{1}{sL} + sC}\n",
    "$$\n",
    "\n",
    "Se multiplicó en numerador y denominador por la variable $s$, obteniendo así una división de dos cuadráticas:\n",
    "\n",
    "$$\n",
    "T(s) = \\frac{s \\frac{d}{R} + \\frac{b}{L} + s^2 Ca}{s \\frac{1}{R} + \\frac{1}{L} + s^2 C}\n",
    "$$\n",
    "\n",
    "Al dividir por los coeficientes principales de las cuadráticas, se obtuvo la función transferencia de sección bicuadrática (SOS) en una representación mónica.\n",
    "\n",
    "$$\n",
    "T(s) = a \\cdot \\frac{s^2 + s \\frac{d}{RCa} + \\frac{b}{LCa}}{s^2 + s \\frac{1}{RC} + \\frac{1}{LC}}\n",
    "$$\n"
   ]
  },
  {
   "cell_type": "code",
   "execution_count": null,
   "id": "3dc2bf37-dd02-4a19-9c69-c011727ed944",
   "metadata": {},
   "outputs": [],
   "source": []
  }
 ],
 "metadata": {
  "kernelspec": {
   "display_name": "Python 3 (ipykernel)",
   "language": "python",
   "name": "python3"
  },
  "language_info": {
   "codemirror_mode": {
    "name": "ipython",
    "version": 3
   },
   "file_extension": ".py",
   "mimetype": "text/x-python",
   "name": "python",
   "nbconvert_exporter": "python",
   "pygments_lexer": "ipython3",
   "version": "3.13.6"
  }
 },
 "nbformat": 4,
 "nbformat_minor": 5
}
